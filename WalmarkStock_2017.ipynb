{
 "cells": [
  {
   "cell_type": "markdown",
   "metadata": {},
   "source": [
    "# Walmart Stocks Data Analysis Using Pyspark"
   ]
  },
  {
   "cell_type": "markdown",
   "metadata": {},
   "source": [
    "\n",
    "Let's get some quick practice with your new Spark DataFrame skills, you will be asked some basic questions about some stock market data, in this case Walmart Stock from the 10 years. \n",
    "\n",
    "Here is what walmart says about there latest data:\n",
    "\"Our historical data has the Open, High, Low, Close, and volume numbers along with Walmart P/E ratio, and PS ratio. The Walmart stock price history chart shows that the stock price reached a high of 90.47 on 08 Jan, 2015, and a low of 42.27 on 08 Jan, 2015 in last five years.\""
   ]
  },
  {
   "cell_type": "markdown",
   "metadata": {},
   "source": [
    "#### Using the walmart_stock.csv file to Answer and complete the  tasks below!"
   ]
  },
  {
   "cell_type": "markdown",
   "metadata": {},
   "source": [
    "#### Starting a simple Spark Session"
   ]
  },
  {
   "cell_type": "code",
   "execution_count": 1,
   "metadata": {
    "collapsed": true
   },
   "outputs": [],
   "source": [
    "from pyspark.sql import SparkSession \n",
    "spark =   SparkSession.builder.appName(\"Walmart Stock\").getOrCreate()"
   ]
  },
  {
   "cell_type": "markdown",
   "metadata": {},
   "source": [
    "####  Walmart stock"
   ]
  },
  {
   "cell_type": "code",
   "execution_count": 2,
   "metadata": {},
   "outputs": [],
   "source": [
    "walmart_df = spark.read.csv(\"WalmartStock_2017.csv\",header=True, inferSchema=True)"
   ]
  },
  {
   "cell_type": "markdown",
   "metadata": {},
   "source": [
    "#### Features or columns"
   ]
  },
  {
   "cell_type": "code",
   "execution_count": 3,
   "metadata": {},
   "outputs": [
    {
     "data": {
      "text/plain": [
       "['Date',\n",
       " 'Open',\n",
       " 'High',\n",
       " 'Low',\n",
       " 'Close',\n",
       " 'Volume',\n",
       " 'Price to Earnings Ratio',\n",
       " 'Price to Sales Ratio']"
      ]
     },
     "execution_count": 3,
     "metadata": {},
     "output_type": "execute_result"
    }
   ],
   "source": [
    "walmart_df.columns"
   ]
  },
  {
   "cell_type": "markdown",
   "metadata": {},
   "source": [
    "#### What does the Schema look like?"
   ]
  },
  {
   "cell_type": "code",
   "execution_count": 4,
   "metadata": {},
   "outputs": [
    {
     "name": "stdout",
     "output_type": "stream",
     "text": [
      "root\n",
      " |-- Date: timestamp (nullable = true)\n",
      " |-- Open: double (nullable = true)\n",
      " |-- High: double (nullable = true)\n",
      " |-- Low: double (nullable = true)\n",
      " |-- Close: double (nullable = true)\n",
      " |-- Volume: integer (nullable = true)\n",
      " |-- Price to Earnings Ratio: string (nullable = true)\n",
      " |-- Price to Sales Ratio: string (nullable = true)\n",
      "\n"
     ]
    }
   ],
   "source": [
    "walmart_df.printSchema()"
   ]
  },
  {
   "cell_type": "markdown",
   "metadata": {},
   "source": [
    "#### Features Observations"
   ]
  },
  {
   "cell_type": "code",
   "execution_count": 5,
   "metadata": {},
   "outputs": [
    {
     "data": {
      "text/plain": [
       "[Row(Date=datetime.datetime(2017, 9, 12, 0, 0), Open=79.3, High=79.91, Low=79.17, Close=79.61, Volume=6004802, Price to Earnings Ratio='19.1370', Price to Sales Ratio='0.4887'),\n",
       " Row(Date=datetime.datetime(2017, 9, 11, 0, 0), Open=79.15, High=79.35, Low=78.66, Close=79.08, Volume=7000202, Price to Earnings Ratio='19.0100', Price to Sales Ratio='0.4854'),\n",
       " Row(Date=datetime.datetime(2017, 9, 8, 0, 0), Open=79.72, High=79.875, Low=77.73, Close=78.88, Volume=9999593, Price to Earnings Ratio='18.9620', Price to Sales Ratio='0.4842'),\n",
       " Row(Date=datetime.datetime(2017, 9, 7, 0, 0), Open=80.32, High=80.76, Low=80.0, Close=80.12, Volume=6820634, Price to Earnings Ratio='19.2600', Price to Sales Ratio='0.4918'),\n",
       " Row(Date=datetime.datetime(2017, 9, 6, 0, 0), Open=79.88, High=80.4, Low=79.72, Close=80.08, Volume=8425487, Price to Earnings Ratio='19.2500', Price to Sales Ratio='0.4916')]"
      ]
     },
     "execution_count": 5,
     "metadata": {},
     "output_type": "execute_result"
    }
   ],
   "source": [
    "walmart_df.take(5)"
   ]
  },
  {
   "cell_type": "markdown",
   "metadata": {},
   "source": [
    "#### Use describe() to learn about the DataFrame."
   ]
  },
  {
   "cell_type": "code",
   "execution_count": 6,
   "metadata": {
    "scrolled": false
   },
   "outputs": [
    {
     "name": "stdout",
     "output_type": "stream",
     "text": [
      "+-------+------------------+------------------+------------------+------------------+--------------------+-----------------------+--------------------+\n",
      "|summary|              Open|              High|               Low|             Close|              Volume|Price to Earnings Ratio|Price to Sales Ratio|\n",
      "+-------+------------------+------------------+------------------+------------------+--------------------+-----------------------+--------------------+\n",
      "|  count|              2665|              2665|              2665|              2665|                2665|                   2665|                2665|\n",
      "|   mean|61.456234521575894|61.933444277673615| 61.01721313320817|63.655750469043035|1.1900423796247656E7|      14.93059052059055|  0.4961338772338774|\n",
      "| stddev|16.135985131238954|16.196346452770083|16.086215691575212| 11.46608356312984|   7962357.992945932|      1.641863172019808| 0.04618966587390132|\n",
      "|    min|               0.0|               0.0|               0.0|             42.27|                   0|                10.5470|              0.3742|\n",
      "|    max|              90.8|             90.97|             89.25|             90.47|            92820440|                    N/A|                 N/A|\n",
      "+-------+------------------+------------------+------------------+------------------+--------------------+-----------------------+--------------------+\n",
      "\n"
     ]
    }
   ],
   "source": [
    "walmart_df.describe().show()"
   ]
  },
  {
   "cell_type": "code",
   "execution_count": 7,
   "metadata": {
    "scrolled": true
   },
   "outputs": [
    {
     "name": "stdout",
     "output_type": "stream",
     "text": [
      "root\n",
      " |-- summary: string (nullable = true)\n",
      " |-- Open: string (nullable = true)\n",
      " |-- High: string (nullable = true)\n",
      " |-- Low: string (nullable = true)\n",
      " |-- Close: string (nullable = true)\n",
      " |-- Volume: string (nullable = true)\n",
      " |-- Price to Earnings Ratio: string (nullable = true)\n",
      " |-- Price to Sales Ratio: string (nullable = true)\n",
      "\n"
     ]
    }
   ],
   "source": [
    "walmart_df.describe().printSchema()"
   ]
  },
  {
   "cell_type": "code",
   "execution_count": null,
   "metadata": {},
   "outputs": [
    {
     "data": {
      "text/plain": [
       "DataFrame[summary: string, Open: string, High: string, Low: string, Close: string, Volume: string, Price to Earnings Ratio: string, Price to Sales Ratio: string]"
      ]
     },
     "execution_count": 8,
     "metadata": {},
     "output_type": "execute_result"
    }
   ],
   "source": [
    "# for better understanding \n",
    "# see columns below\n",
    "result = walmart_df.describe()\n",
    "result"
   ]
  },
  {
   "cell_type": "code",
   "execution_count": null,
   "metadata": {},
   "outputs": [],
   "source": [
    "from pyspark.sql.functions import format_number\n",
    "result.select(result['summary'], result['Volume'].cast('int').alias('Volume'), format_number(result['Open'].cast('float'),2).alias('Open')\n",
    "             ,format_number(result['High'].cast('float'),2).alias('High'),\n",
    "             format_number(result['Low'].cast('float'),2).alias('Low'),\n",
    "             format_number(result['Close'].cast('float'),2).alias('Close'),\n",
    "              format_number(result['Price to Earnings Ratio'].cast('float'),2).alias('Price to Earnings Ratio'),\n",
    "              format_number(result['Price to Sales Ratio'].cast('float'),2).alias('Price to Sales Ratio')\n",
    "             ).show()"
   ]
  },
  {
   "cell_type": "markdown",
   "metadata": {},
   "source": [
    "#### Create a new dataframe with a column called HV Ratio that is the ratio of the High Price versus volume of stock traded for a day."
   ]
  },
  {
   "cell_type": "code",
   "execution_count": null,
   "metadata": {},
   "outputs": [],
   "source": [
    "walmart_df2 = walmart_df.withColumn('Ratio HV',walmart_df['High'] /walmart_df['Volume'])\n",
    "\n",
    "walmart_df2.show()"
   ]
  },
  {
   "cell_type": "markdown",
   "metadata": {},
   "source": [
    "#### What day had the Peak High in Price?"
   ]
  },
  {
   "cell_type": "code",
   "execution_count": null,
   "metadata": {},
   "outputs": [],
   "source": [
    "walmart_df.orderBy(walmart_df['High'].desc()).head(1)[0][0]"
   ]
  },
  {
   "cell_type": "markdown",
   "metadata": {},
   "source": [
    "#### What is the mean of the Close column?"
   ]
  },
  {
   "cell_type": "code",
   "execution_count": null,
   "metadata": {},
   "outputs": [],
   "source": [
    "from pyspark.sql.functions import mean\n",
    "walmart_df.select(mean(walmart_df[\"Close\"])).show()"
   ]
  },
  {
   "cell_type": "markdown",
   "metadata": {},
   "source": [
    "#### What is the max and min of the Volume column?"
   ]
  },
  {
   "cell_type": "code",
   "execution_count": null,
   "metadata": {},
   "outputs": [],
   "source": [
    "from pyspark.sql.functions import mean\n",
    "walmart_df.select(mean(walmart_df[\"Volume\"])).show()"
   ]
  },
  {
   "cell_type": "code",
   "execution_count": null,
   "metadata": {},
   "outputs": [],
   "source": [
    "walmart_df.select(max(walmart_df[\"Volume\"]),max(walmart_df[\"Volume\"])).show()"
   ]
  },
  {
   "cell_type": "markdown",
   "metadata": {},
   "source": [
    "#### How many days was the Close lower than 60 dollars?"
   ]
  },
  {
   "cell_type": "code",
   "execution_count": null,
   "metadata": {},
   "outputs": [],
   "source": [
    "walmart_df.filter(\"Close < 60\").show()"
   ]
  },
  {
   "cell_type": "markdown",
   "metadata": {},
   "source": [
    "#### What percentage of the time was the High greater than 80 dollars ?\n",
    "#### In other words, (Number of Days High>80)/(Total Days in the dataset)"
   ]
  },
  {
   "cell_type": "code",
   "execution_count": null,
   "metadata": {},
   "outputs": [],
   "source": [
    "( walmart_df.filter('High > 80').count()/ walmart_df.count())*100"
   ]
  },
  {
   "cell_type": "markdown",
   "metadata": {},
   "source": [
    "#### What is the Pearson correlation between High and Volume?\n"
   ]
  },
  {
   "cell_type": "code",
   "execution_count": null,
   "metadata": {},
   "outputs": [],
   "source": [
    "walmart_df.select(corr(\"High\",\"Volume\")).show()"
   ]
  },
  {
   "cell_type": "markdown",
   "metadata": {},
   "source": [
    "#### What is the max High per year?"
   ]
  },
  {
   "cell_type": "code",
   "execution_count": null,
   "metadata": {},
   "outputs": [],
   "source": [
    "yeardf = walmart_df.withColumn(\"Year\",year(walmart_df[\"Date\"]))\n",
    "#yeardf.show()\n",
    "max_df = yeardf.select('High','Close','Date','Year').groupBy('Year').agg(max('High'))\n",
    "max_df.show()\n",
    "#Or\n",
    "#max_df.select('Year','max(High)').show()"
   ]
  },
  {
   "cell_type": "markdown",
   "metadata": {},
   "source": [
    "#### What is the average Close for each Calendar Month?\n",
    "#### In other words, across all the years, what is the average Close price for Jan,Feb, Mar, etc... Your result will have a value for each of these months. "
   ]
  },
  {
   "cell_type": "code",
   "execution_count": null,
   "metadata": {},
   "outputs": [],
   "source": [
    "monthdf = walmart_df.withColumn('month',month('Date'))\n",
    "monthdf.show()\n",
    "\n",
    "monthavgs = monthdf.select(\"Month\",\"Close\").groupBy(\"Month\").mean()\n",
    "monthavgs.select(\"Month\",'avg(Close)').orderBy('Month').show()"
   ]
  }
 ],
 "metadata": {
  "anaconda-cloud": {},
  "kernelspec": {
   "display_name": "Python 3",
   "language": "python",
   "name": "python3"
  },
  "language_info": {
   "codemirror_mode": {
    "name": "ipython",
    "version": 3
   },
   "file_extension": ".py",
   "mimetype": "text/x-python",
   "name": "python",
   "nbconvert_exporter": "python",
   "pygments_lexer": "ipython3",
   "version": "3.6.2"
  }
 },
 "nbformat": 4,
 "nbformat_minor": 1
}
