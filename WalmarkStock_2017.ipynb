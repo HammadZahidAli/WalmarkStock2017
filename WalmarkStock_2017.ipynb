{
 "cells": [
  {
   "cell_type": "markdown",
   "metadata": {},
   "source": [
    "# Walmart Stocks Data Analysis Using Pyspark"
   ]
  },
  {
   "cell_type": "markdown",
   "metadata": {},
   "source": [
    "\n",
    "Let's get some quick practice with your new Spark DataFrame skills, you will be asked some basic questions about some stock market data, in this case Walmart Stock from the 10 years. \n",
    "\n",
    "Here is what walmart says about there latest data:\n",
    "\"Our historical data has the Open, High, Low, Close, and volume numbers along with Walmart P/E ratio, and PS ratio. The Walmart stock price history chart shows that the stock price reached a high of 90.47 on 08 Jan, 2015, and a low of 42.27 on 08 Jan, 2015 in last five years.\""
   ]
  },
  {
   "cell_type": "markdown",
   "metadata": {},
   "source": [
    "# Using the walmart_stock.csv file for Analysis"
   ]
  },
  {
   "cell_type": "markdown",
   "metadata": {},
   "source": [
    "## Starting a simple Spark Session"
   ]
  },
  {
   "cell_type": "code",
   "execution_count": 18,
   "metadata": {
    "collapsed": true
   },
   "outputs": [],
   "source": [
    "from pyspark.sql import SparkSession \n",
    "spark =   SparkSession.builder.appName(\"Walmart Stock\").getOrCreate()\n",
    "\n"
   ]
  },
  {
   "cell_type": "markdown",
   "metadata": {},
   "source": [
    "####  Walmart stock"
   ]
  },
  {
   "cell_type": "code",
   "execution_count": 19,
   "metadata": {
    "collapsed": true
   },
   "outputs": [],
   "source": [
    "walmart_df = spark.read.csv(\"WalmartStock_2017.csv\",header=True, inferSchema=True)"
   ]
  },
  {
   "cell_type": "markdown",
   "metadata": {},
   "source": [
    "#### Features or columns"
   ]
  },
  {
   "cell_type": "code",
   "execution_count": 21,
   "metadata": {},
   "outputs": [
    {
     "data": {
      "text/plain": [
       "['Date',\n",
       " 'Open',\n",
       " 'High',\n",
       " 'Low',\n",
       " 'Close',\n",
       " 'Volume',\n",
       " 'Price to Earnings Ratio',\n",
       " 'Price to Sales Ratio']"
      ]
     },
     "execution_count": 21,
     "metadata": {},
     "output_type": "execute_result"
    }
   ],
   "source": [
    "walmart_df.columns"
   ]
  },
  {
   "cell_type": "markdown",
   "metadata": {},
   "source": [
    "#### What does the Schema look like?"
   ]
  },
  {
   "cell_type": "code",
   "execution_count": 22,
   "metadata": {},
   "outputs": [
    {
     "name": "stdout",
     "output_type": "stream",
     "text": [
      "root\n",
      " |-- Date: timestamp (nullable = true)\n",
      " |-- Open: double (nullable = true)\n",
      " |-- High: double (nullable = true)\n",
      " |-- Low: double (nullable = true)\n",
      " |-- Close: double (nullable = true)\n",
      " |-- Volume: integer (nullable = true)\n",
      " |-- Price to Earnings Ratio: string (nullable = true)\n",
      " |-- Price to Sales Ratio: string (nullable = true)\n",
      "\n"
     ]
    }
   ],
   "source": [
    "walmart_df.printSchema()"
   ]
  },
  {
   "cell_type": "markdown",
   "metadata": {},
   "source": [
    "#### Features Observations"
   ]
  },
  {
   "cell_type": "code",
   "execution_count": 23,
   "metadata": {},
   "outputs": [
    {
     "data": {
      "text/plain": [
       "[Row(Date=datetime.datetime(2017, 9, 12, 0, 0), Open=79.3, High=79.91, Low=79.17, Close=79.61, Volume=6004802, Price to Earnings Ratio='19.1370', Price to Sales Ratio='0.4887'),\n",
       " Row(Date=datetime.datetime(2017, 9, 11, 0, 0), Open=79.15, High=79.35, Low=78.66, Close=79.08, Volume=7000202, Price to Earnings Ratio='19.0100', Price to Sales Ratio='0.4854'),\n",
       " Row(Date=datetime.datetime(2017, 9, 8, 0, 0), Open=79.72, High=79.875, Low=77.73, Close=78.88, Volume=9999593, Price to Earnings Ratio='18.9620', Price to Sales Ratio='0.4842'),\n",
       " Row(Date=datetime.datetime(2017, 9, 7, 0, 0), Open=80.32, High=80.76, Low=80.0, Close=80.12, Volume=6820634, Price to Earnings Ratio='19.2600', Price to Sales Ratio='0.4918'),\n",
       " Row(Date=datetime.datetime(2017, 9, 6, 0, 0), Open=79.88, High=80.4, Low=79.72, Close=80.08, Volume=8425487, Price to Earnings Ratio='19.2500', Price to Sales Ratio='0.4916')]"
      ]
     },
     "execution_count": 23,
     "metadata": {},
     "output_type": "execute_result"
    }
   ],
   "source": [
    "walmart_df.take(5)"
   ]
  },
  {
   "cell_type": "markdown",
   "metadata": {},
   "source": [
    "#### Use describe() to learn about the DataFrame."
   ]
  },
  {
   "cell_type": "code",
   "execution_count": 6,
   "metadata": {
    "scrolled": false
   },
   "outputs": [
    {
     "name": "stdout",
     "output_type": "stream",
     "text": [
      "+-------+------------------+------------------+------------------+------------------+--------------------+-----------------------+--------------------+\n",
      "|summary|              Open|              High|               Low|             Close|              Volume|Price to Earnings Ratio|Price to Sales Ratio|\n",
      "+-------+------------------+------------------+------------------+------------------+--------------------+-----------------------+--------------------+\n",
      "|  count|              2665|              2665|              2665|              2665|                2665|                   2665|                2665|\n",
      "|   mean|61.456234521575894|61.933444277673615| 61.01721313320817|63.655750469043035|1.1900423796247656E7|      14.93059052059055|  0.4961338772338774|\n",
      "| stddev|16.135985131238954|16.196346452770083|16.086215691575212| 11.46608356312984|   7962357.992945932|      1.641863172019808| 0.04618966587390132|\n",
      "|    min|               0.0|               0.0|               0.0|             42.27|                   0|                10.5470|              0.3742|\n",
      "|    max|              90.8|             90.97|             89.25|             90.47|            92820440|                    N/A|                 N/A|\n",
      "+-------+------------------+------------------+------------------+------------------+--------------------+-----------------------+--------------------+\n",
      "\n"
     ]
    }
   ],
   "source": [
    "walmart_df.describe().show()"
   ]
  },
  {
   "cell_type": "code",
   "execution_count": 7,
   "metadata": {
    "scrolled": true
   },
   "outputs": [
    {
     "name": "stdout",
     "output_type": "stream",
     "text": [
      "root\n",
      " |-- summary: string (nullable = true)\n",
      " |-- Open: string (nullable = true)\n",
      " |-- High: string (nullable = true)\n",
      " |-- Low: string (nullable = true)\n",
      " |-- Close: string (nullable = true)\n",
      " |-- Volume: string (nullable = true)\n",
      " |-- Price to Earnings Ratio: string (nullable = true)\n",
      " |-- Price to Sales Ratio: string (nullable = true)\n",
      "\n"
     ]
    }
   ],
   "source": [
    "walmart_df.describe().printSchema()"
   ]
  },
  {
   "cell_type": "code",
   "execution_count": 24,
   "metadata": {},
   "outputs": [
    {
     "data": {
      "text/plain": [
       "DataFrame[summary: string, Open: string, High: string, Low: string, Close: string, Volume: string, Price to Earnings Ratio: string, Price to Sales Ratio: string]"
      ]
     },
     "execution_count": 24,
     "metadata": {},
     "output_type": "execute_result"
    }
   ],
   "source": [
    "# for better understanding \n",
    "# see columns below\n",
    "result = walmart_df.describe()\n",
    "result"
   ]
  },
  {
   "cell_type": "code",
   "execution_count": 25,
   "metadata": {},
   "outputs": [
    {
     "name": "stdout",
     "output_type": "stream",
     "text": [
      "+-------+--------+--------+--------+--------+--------+-----------------------+--------------------+\n",
      "|summary|  Volume|    Open|    High|     Low|   Close|Price to Earnings Ratio|Price to Sales Ratio|\n",
      "+-------+--------+--------+--------+--------+--------+-----------------------+--------------------+\n",
      "|  count|    2665|2,665.00|2,665.00|2,665.00|2,665.00|               2,665.00|            2,665.00|\n",
      "|   mean|    null|   61.46|   61.93|   61.02|   63.66|                  14.93|                0.50|\n",
      "| stddev| 7962357|   16.14|   16.20|   16.09|   11.47|                   1.64|                0.05|\n",
      "|    min|       0|    0.00|    0.00|    0.00|   42.27|                  10.55|                0.37|\n",
      "|    max|92820440|   90.80|   90.97|   89.25|   90.47|                   null|                null|\n",
      "+-------+--------+--------+--------+--------+--------+-----------------------+--------------------+\n",
      "\n"
     ]
    }
   ],
   "source": [
    "from pyspark.sql.functions import format_number\n",
    "result.select(result['summary'], result['Volume'].cast('int').alias('Volume'), format_number(result['Open'].cast('float'),2).alias('Open')\n",
    "             ,format_number(result['High'].cast('float'),2).alias('High'),\n",
    "             format_number(result['Low'].cast('float'),2).alias('Low'),\n",
    "             format_number(result['Close'].cast('float'),2).alias('Close'),\n",
    "              format_number(result['Price to Earnings Ratio'].cast('float'),2).alias('Price to Earnings Ratio'),\n",
    "              format_number(result['Price to Sales Ratio'].cast('float'),2).alias('Price to Sales Ratio')\n",
    "             ).show()"
   ]
  },
  {
   "cell_type": "markdown",
   "metadata": {},
   "source": [
    "#### Create a new dataframe with a column called HV Ratio that is the ratio of the High Price versus volume of stock traded for a day."
   ]
  },
  {
   "cell_type": "code",
   "execution_count": 26,
   "metadata": {},
   "outputs": [
    {
     "name": "stdout",
     "output_type": "stream",
     "text": [
      "+-------------------+-----+------+-----+-----+--------+-----------------------+--------------------+--------------------+\n",
      "|               Date| Open|  High|  Low|Close|  Volume|Price to Earnings Ratio|Price to Sales Ratio|            Ratio HV|\n",
      "+-------------------+-----+------+-----+-----+--------+-----------------------+--------------------+--------------------+\n",
      "|2017-09-12 00:00:00| 79.3| 79.91|79.17|79.61| 6004802|                19.1370|              0.4887|1.330768275123809...|\n",
      "|2017-09-11 00:00:00|79.15| 79.35|78.66|79.08| 7000202|                19.0100|              0.4854|1.133538717882712...|\n",
      "|2017-09-08 00:00:00|79.72|79.875|77.73|78.88| 9999593|                18.9620|              0.4842|7.987825104481753E-6|\n",
      "|2017-09-07 00:00:00|80.32| 80.76| 80.0|80.12| 6820634|                19.2600|              0.4918|1.184054150977753...|\n",
      "|2017-09-06 00:00:00|79.88|  80.4|79.72|80.08| 8425487|                19.2500|              0.4916|9.542475111527678E-6|\n",
      "|2017-09-05 00:00:00|77.95| 79.89| 77.9| 79.8|12068490|                19.1830|              0.4899|6.619717959744757E-6|\n",
      "|2017-09-01 00:00:00|78.31|  78.5|78.21|78.37| 6474360|                18.8390|              0.4811|1.212475055449496...|\n",
      "|2017-08-31 00:00:00| 78.6| 78.75|78.06|78.07| 8194750|                18.7670|              0.4792| 9.60981115958388E-6|\n",
      "|2017-08-30 00:00:00|78.82|  79.1|78.52|78.54| 5829736|                18.8800|              0.4821|1.356836741835307...|\n",
      "|2017-08-29 00:00:00|77.67| 78.98| 77.5|78.77| 7661709|                18.9350|              0.4835|1.030840508299127...|\n",
      "|2017-08-28 00:00:00|78.41|78.462|77.86|78.03| 8621494|                18.7570|              0.4790| 9.10074286428779E-6|\n",
      "|2017-08-25 00:00:00| 78.5| 79.09|78.48|78.63| 9902189|                18.9010|              0.4827|7.987122847281547E-6|\n",
      "|2017-08-24 00:00:00|80.61| 80.88|77.85|78.34|19128040|                18.8320|              0.4809| 4.22834749404539E-6|\n",
      "|2017-08-23 00:00:00|80.35| 80.56|79.88|79.96| 7799306|                19.2210|              0.4908|1.032912415540562...|\n",
      "|2017-08-22 00:00:00| 79.8| 80.16|79.71|80.02| 6546099|                19.2360|              0.4912|1.224546099898580...|\n",
      "|2017-08-21 00:00:00|79.12| 80.07|78.79|79.71| 9613928|                19.1610|              0.4893| 8.32854167412113E-6|\n",
      "|2017-08-18 00:00:00|79.62| 80.35|79.28|79.31| 9752957|                19.0650|              0.4869|  8.2385270436443E-6|\n",
      "|2017-08-17 00:00:00|78.85| 79.81|78.33| 79.7|17106735|                18.0730|              0.4962| 4.66541394368943E-6|\n",
      "|2017-08-16 00:00:00|81.27| 81.44|80.54|80.98|11513771|                18.3630|              0.5041|7.073269044520687E-6|\n",
      "|2017-08-15 00:00:00|80.83|  81.4|80.54|80.77| 7066058|                18.3150|              0.5028|1.151986015399251E-5|\n",
      "+-------------------+-----+------+-----+-----+--------+-----------------------+--------------------+--------------------+\n",
      "only showing top 20 rows\n",
      "\n"
     ]
    }
   ],
   "source": [
    "walmart_df2 = walmart_df.withColumn('Ratio HV',walmart_df['High'] /walmart_df['Volume'])\n",
    "\n",
    "walmart_df2.show()"
   ]
  },
  {
   "cell_type": "markdown",
   "metadata": {},
   "source": [
    "#### What day had the Peak High in Price?"
   ]
  },
  {
   "cell_type": "code",
   "execution_count": 27,
   "metadata": {},
   "outputs": [
    {
     "data": {
      "text/plain": [
       "datetime.datetime(2015, 1, 13, 0, 0)"
      ]
     },
     "execution_count": 27,
     "metadata": {},
     "output_type": "execute_result"
    }
   ],
   "source": [
    "walmart_df.orderBy(walmart_df['High'].desc()).head(1)[0][0]"
   ]
  },
  {
   "cell_type": "markdown",
   "metadata": {},
   "source": [
    "#### What is the mean of the Close column?"
   ]
  },
  {
   "cell_type": "code",
   "execution_count": 12,
   "metadata": {},
   "outputs": [
    {
     "name": "stdout",
     "output_type": "stream",
     "text": [
      "+------------------+\n",
      "|        avg(Close)|\n",
      "+------------------+\n",
      "|63.655750469043035|\n",
      "+------------------+\n",
      "\n"
     ]
    }
   ],
   "source": [
    "from pyspark.sql.functions import mean\n",
    "walmart_df.select(mean(walmart_df[\"Close\"])).show()"
   ]
  },
  {
   "cell_type": "markdown",
   "metadata": {},
   "source": [
    "#### What is the max and min of the Volume column?"
   ]
  },
  {
   "cell_type": "code",
   "execution_count": 46,
   "metadata": {},
   "outputs": [
    {
     "name": "stdout",
     "output_type": "stream",
     "text": [
      "+--------------------+\n",
      "|         avg(Volume)|\n",
      "+--------------------+\n",
      "|1.1900423796247656E7|\n",
      "+--------------------+\n",
      "\n"
     ]
    }
   ],
   "source": [
    "from pyspark.sql.functions import mean, max, min\n",
    "walmart_df.select(mean(walmart_df[\"Volume\"])).show()"
   ]
  },
  {
   "cell_type": "code",
   "execution_count": 47,
   "metadata": {},
   "outputs": [
    {
     "name": "stdout",
     "output_type": "stream",
     "text": [
      "+-----------+-----------+\n",
      "|max(Volume)|max(Volume)|\n",
      "+-----------+-----------+\n",
      "|   92820440|   92820440|\n",
      "+-----------+-----------+\n",
      "\n"
     ]
    }
   ],
   "source": [
    "#walmart_df.show()\n",
    "walmart_df.select(max(walmart_df[\"Volume\"]),max(walmart_df[\"Volume\"])).show()\n"
   ]
  },
  {
   "cell_type": "markdown",
   "metadata": {},
   "source": [
    "#### How many days was the Close lower than 60 dollars?"
   ]
  },
  {
   "cell_type": "code",
   "execution_count": 48,
   "metadata": {},
   "outputs": [
    {
     "name": "stdout",
     "output_type": "stream",
     "text": [
      "+-------------------+-----+------+------+-----+--------+-----------------------+--------------------+\n",
      "|               Date| Open|  High|   Low|Close|  Volume|Price to Earnings Ratio|Price to Sales Ratio|\n",
      "+-------------------+-----+------+------+-----+--------+-----------------------+--------------------+\n",
      "|2015-12-21 00:00:00|58.82| 59.58| 58.67|59.55| 9645451|                12.7520|              0.3949|\n",
      "|2015-12-18 00:00:00|58.92|  59.4| 58.75|58.85|16256725|                12.6020|              0.3903|\n",
      "|2015-12-17 00:00:00|60.33| 60.33| 58.97|58.98|12976095|                12.6300|              0.3911|\n",
      "|2015-12-15 00:00:00|60.64| 60.84| 59.57|59.64|14615439|                12.7710|              0.3955|\n",
      "|2015-12-11 00:00:00|59.05| 59.53| 58.81|59.36| 9744977|                12.7110|              0.3937|\n",
      "|2015-12-10 00:00:00|59.13| 60.09| 59.09|59.56|11359446|                12.7540|              0.3950|\n",
      "|2015-12-09 00:00:00|59.26| 60.11|  58.9|59.13| 8981982|                12.6620|              0.3921|\n",
      "|2015-12-08 00:00:00|60.07| 60.49|  59.5|59.61|10377620|                12.7640|              0.3953|\n",
      "|2015-12-04 00:00:00|59.05| 59.85| 59.03|59.66|10435274|                12.7750|              0.3957|\n",
      "|2015-12-03 00:00:00|58.69| 59.66|58.595|59.04|15844091|                12.6420|              0.3915|\n",
      "|2015-12-02 00:00:00|58.61| 59.29|58.315|58.35|13586877|                12.4950|              0.3870|\n",
      "|2015-12-01 00:00:00|59.13| 59.29| 58.65|58.99|12204131|                12.6320|              0.3912|\n",
      "|2015-11-30 00:00:00|59.87| 60.06| 58.73|58.84|14942599|                12.6000|              0.3902|\n",
      "|2015-11-27 00:00:00|60.44| 60.69| 59.87|59.89| 5340915|                12.8240|              0.3972|\n",
      "|2015-11-24 00:00:00|59.95|60.415| 59.86|59.92|12453866|                12.8310|              0.3974|\n",
      "|2015-11-17 00:00:00|59.34|  60.9|  59.2|59.92|24679344|                12.5090|              0.3974|\n",
      "|2015-11-16 00:00:00| 56.4| 58.03| 56.36|57.87|13321644|                12.0810|              0.3838|\n",
      "|2015-11-13 00:00:00|56.74| 57.06|  56.3|56.42|12514909|                11.7790|              0.3742|\n",
      "|2015-11-12 00:00:00|57.65| 57.77| 56.92|56.95| 9551481|                11.8890|              0.3777|\n",
      "|2015-11-11 00:00:00| 58.5| 58.73| 57.47|57.58| 8689874|                12.0210|              0.3819|\n",
      "+-------------------+-----+------+------+-----+--------+-----------------------+--------------------+\n",
      "only showing top 20 rows\n",
      "\n"
     ]
    }
   ],
   "source": [
    "walmart_df.filter(\"Close < 60\").show()"
   ]
  },
  {
   "cell_type": "markdown",
   "metadata": {},
   "source": [
    "#### What percentage of the time was the High greater than 80 dollars ?\n",
    "#### In other words, (Number of Days High>80)/(Total Days in the dataset)"
   ]
  },
  {
   "cell_type": "code",
   "execution_count": 49,
   "metadata": {},
   "outputs": [
    {
     "data": {
      "text/plain": [
       "5.215759849906192"
      ]
     },
     "execution_count": 49,
     "metadata": {},
     "output_type": "execute_result"
    }
   ],
   "source": [
    "( walmart_df.filter('High > 80').count()/ walmart_df.count())*100"
   ]
  },
  {
   "cell_type": "markdown",
   "metadata": {},
   "source": [
    "#### What is the Pearson correlation between High and Volume?\n"
   ]
  },
  {
   "cell_type": "code",
   "execution_count": 58,
   "metadata": {},
   "outputs": [
    {
     "name": "stdout",
     "output_type": "stream",
     "text": [
      "+--------------------+\n",
      "|  corr(High, Volume)|\n",
      "+--------------------+\n",
      "|-0.18667006516302553|\n",
      "+--------------------+\n",
      "\n"
     ]
    }
   ],
   "source": [
    "from pyspark.sql.functions import *\n",
    "walmart_df.select(corr(\"High\",\"Volume\")).show()"
   ]
  },
  {
   "cell_type": "markdown",
   "metadata": {},
   "source": [
    "#### What is the max High per year?"
   ]
  },
  {
   "cell_type": "code",
   "execution_count": 62,
   "metadata": {},
   "outputs": [
    {
     "name": "stdout",
     "output_type": "stream",
     "text": [
      "+----+---------+\n",
      "|Year|max(High)|\n",
      "+----+---------+\n",
      "|2007|    50.05|\n",
      "|2015|    90.97|\n",
      "|2013|    81.37|\n",
      "|2014|    88.09|\n",
      "|2012|     77.6|\n",
      "|2009|    57.51|\n",
      "|2016|    75.19|\n",
      "|2010|    56.27|\n",
      "|2011|     60.0|\n",
      "|2008|    63.85|\n",
      "|2017|    81.99|\n",
      "+----+---------+\n",
      "\n"
     ]
    }
   ],
   "source": [
    "yeardf = walmart_df.withColumn(\"Year\",year(walmart_df[\"Date\"]))\n",
    "#yeardf.show()\n",
    "max_df = yeardf.select('High','Close','Date','Year').groupBy('Year').agg(max('High'))\n",
    "max_df.show()\n",
    "#Or\n",
    "#max_df.select('Year','max(High)').show()"
   ]
  },
  {
   "cell_type": "markdown",
   "metadata": {},
   "source": [
    "#### What is the average Close for each Calendar Month?\n",
    "#### In other words, across all the years, what is the average Close price for Jan,Feb, Mar, etc... Your result will have a value for each of these months. "
   ]
  },
  {
   "cell_type": "code",
   "execution_count": 60,
   "metadata": {},
   "outputs": [
    {
     "name": "stdout",
     "output_type": "stream",
     "text": [
      "+-------------------+-----+------+-----+-----+--------+-----------------------+--------------------+-----+\n",
      "|               Date| Open|  High|  Low|Close|  Volume|Price to Earnings Ratio|Price to Sales Ratio|month|\n",
      "+-------------------+-----+------+-----+-----+--------+-----------------------+--------------------+-----+\n",
      "|2017-09-12 00:00:00| 79.3| 79.91|79.17|79.61| 6004802|                19.1370|              0.4887|    9|\n",
      "|2017-09-11 00:00:00|79.15| 79.35|78.66|79.08| 7000202|                19.0100|              0.4854|    9|\n",
      "|2017-09-08 00:00:00|79.72|79.875|77.73|78.88| 9999593|                18.9620|              0.4842|    9|\n",
      "|2017-09-07 00:00:00|80.32| 80.76| 80.0|80.12| 6820634|                19.2600|              0.4918|    9|\n",
      "|2017-09-06 00:00:00|79.88|  80.4|79.72|80.08| 8425487|                19.2500|              0.4916|    9|\n",
      "|2017-09-05 00:00:00|77.95| 79.89| 77.9| 79.8|12068490|                19.1830|              0.4899|    9|\n",
      "|2017-09-01 00:00:00|78.31|  78.5|78.21|78.37| 6474360|                18.8390|              0.4811|    9|\n",
      "|2017-08-31 00:00:00| 78.6| 78.75|78.06|78.07| 8194750|                18.7670|              0.4792|    8|\n",
      "|2017-08-30 00:00:00|78.82|  79.1|78.52|78.54| 5829736|                18.8800|              0.4821|    8|\n",
      "|2017-08-29 00:00:00|77.67| 78.98| 77.5|78.77| 7661709|                18.9350|              0.4835|    8|\n",
      "|2017-08-28 00:00:00|78.41|78.462|77.86|78.03| 8621494|                18.7570|              0.4790|    8|\n",
      "|2017-08-25 00:00:00| 78.5| 79.09|78.48|78.63| 9902189|                18.9010|              0.4827|    8|\n",
      "|2017-08-24 00:00:00|80.61| 80.88|77.85|78.34|19128040|                18.8320|              0.4809|    8|\n",
      "|2017-08-23 00:00:00|80.35| 80.56|79.88|79.96| 7799306|                19.2210|              0.4908|    8|\n",
      "|2017-08-22 00:00:00| 79.8| 80.16|79.71|80.02| 6546099|                19.2360|              0.4912|    8|\n",
      "|2017-08-21 00:00:00|79.12| 80.07|78.79|79.71| 9613928|                19.1610|              0.4893|    8|\n",
      "|2017-08-18 00:00:00|79.62| 80.35|79.28|79.31| 9752957|                19.0650|              0.4869|    8|\n",
      "|2017-08-17 00:00:00|78.85| 79.81|78.33| 79.7|17106735|                18.0730|              0.4962|    8|\n",
      "|2017-08-16 00:00:00|81.27| 81.44|80.54|80.98|11513771|                18.3630|              0.5041|    8|\n",
      "|2017-08-15 00:00:00|80.83|  81.4|80.54|80.77| 7066058|                18.3150|              0.5028|    8|\n",
      "+-------------------+-----+------+-----+-----+--------+-----------------------+--------------------+-----+\n",
      "only showing top 20 rows\n",
      "\n",
      "+-----+------------------+\n",
      "|Month|        avg(Close)|\n",
      "+-----+------------------+\n",
      "|    1| 63.34181818181816|\n",
      "|    2| 63.26665024630539|\n",
      "|    3|63.671461538461536|\n",
      "|    4| 65.23823255813956|\n",
      "|    5| 65.47518181818182|\n",
      "|    6| 64.62790909090907|\n",
      "|    7| 64.10286008230452|\n",
      "|    8|63.837572016460896|\n",
      "|    9|62.558918918918906|\n",
      "|   10| 61.76846846846846|\n",
      "|   11| 62.44600938967138|\n",
      "|   12| 63.46523318385648|\n",
      "+-----+------------------+\n",
      "\n"
     ]
    }
   ],
   "source": [
    "monthdf = walmart_df.withColumn('month',month('Date'))\n",
    "monthdf.show()\n",
    "\n",
    "monthavgs = monthdf.select(\"Month\",\"Close\").groupBy(\"Month\").mean()\n",
    "monthavgs.select(\"Month\",'avg(Close)').orderBy('Month').show()"
   ]
  },
  {
   "cell_type": "code",
   "execution_count": null,
   "metadata": {
    "collapsed": true
   },
   "outputs": [],
   "source": []
  }
 ],
 "metadata": {
  "anaconda-cloud": {},
  "kernelspec": {
   "display_name": "Python 3",
   "language": "python",
   "name": "python3"
  },
  "language_info": {
   "codemirror_mode": {
    "name": "ipython",
    "version": 3
   },
   "file_extension": ".py",
   "mimetype": "text/x-python",
   "name": "python",
   "nbconvert_exporter": "python",
   "pygments_lexer": "ipython3",
   "version": "3.6.2"
  }
 },
 "nbformat": 4,
 "nbformat_minor": 1
}
